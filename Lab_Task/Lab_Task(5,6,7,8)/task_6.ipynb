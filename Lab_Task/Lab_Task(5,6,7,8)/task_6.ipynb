{
 "cells": [
  {
   "cell_type": "code",
   "execution_count": 1,
   "metadata": {},
   "outputs": [
    {
     "name": "stdout",
     "output_type": "stream",
     "text": [
      "BFS Traversal:  ['A', 'B', 'C', 'D', 'E']\n"
     ]
    }
   ],
   "source": [
    "def breadth_first_search(graph, starting_node):\n",
    "    visited_nodes = []\n",
    "    current_level = [starting_node]\n",
    "    \n",
    "    while current_level:\n",
    "        next_level = []\n",
    "        for node in current_level:\n",
    "            if node not in visited_nodes:\n",
    "                visited_nodes.append(node)\n",
    "                next_level.extend(graph[node])\n",
    "        current_level = next_level\n",
    "    \n",
    "    return visited_nodes\n",
    "\n",
    "\n",
    "# Defining the graph structure\n",
    "graph_structure = {\n",
    "    'A': ['B', 'C'],\n",
    "    'B': ['D', 'E'],\n",
    "    'C': [],\n",
    "    'D': [],\n",
    "    'E': []\n",
    "}\n",
    "\n",
    "print(\"BFS Traversal: \", breadth_first_search(graph_structure, 'A'))"
   ]
  },
  {
   "cell_type": "markdown",
   "metadata": {},
   "source": [
    "# Task 2"
   ]
  },
  {
   "cell_type": "code",
   "execution_count": 2,
   "metadata": {},
   "outputs": [
    {
     "name": "stdout",
     "output_type": "stream",
     "text": [
      "BFS Traversal:  ['A', 'B', 'C', 'D']\n"
     ]
    }
   ],
   "source": [
    "class TreeNode:\n",
    "    def __init__(self, value):\n",
    "        self.value = value\n",
    "        self.children = []\n",
    "\n",
    "    def add_child(self, child_node):\n",
    "        self.children.append(child_node)\n",
    "\n",
    "\n",
    "def breadth_first_search(root):\n",
    "    if root == None:\n",
    "        return []\n",
    "\n",
    "    visited_nodes = []\n",
    "    queue = [root]\n",
    "    \n",
    "    while queue:\n",
    "        current_node = queue.pop(0)  # Dequeue the first element\n",
    "        \n",
    "        if current_node not in visited_nodes:\n",
    "            visited_nodes.append(current_node)\n",
    "            queue.extend(current_node.children)  # Enqueue children\n",
    "\n",
    "    return [node.value for node in visited_nodes]\n",
    "\n",
    "\n",
    "# Constructing the tree\n",
    "node_a = TreeNode('A')\n",
    "node_b = TreeNode('B')\n",
    "node_c = TreeNode('C')\n",
    "node_d = TreeNode('D')\n",
    "\n",
    "\n",
    "node_a.add_child(node_b)\n",
    "node_a.add_child(node_c)\n",
    "node_b.add_child(node_d)\n",
    "\n",
    "\n",
    "# Performing BFS\n",
    "print(\"BFS Traversal: \", breadth_first_search(node_a))"
   ]
  },
  {
   "cell_type": "code",
   "execution_count": null,
   "metadata": {},
   "outputs": [],
   "source": []
  }
 ],
 "metadata": {
  "kernelspec": {
   "display_name": "Python 3",
   "language": "python",
   "name": "python3"
  },
  "language_info": {
   "codemirror_mode": {
    "name": "ipython",
    "version": 3
   },
   "file_extension": ".py",
   "mimetype": "text/x-python",
   "name": "python",
   "nbconvert_exporter": "python",
   "pygments_lexer": "ipython3",
   "version": "3.12.7"
  }
 },
 "nbformat": 4,
 "nbformat_minor": 2
}
