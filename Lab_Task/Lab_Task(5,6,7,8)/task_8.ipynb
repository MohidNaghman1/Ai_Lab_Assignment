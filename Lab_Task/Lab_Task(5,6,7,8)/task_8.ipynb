{
 "cells": [
  {
   "cell_type": "code",
   "execution_count": 4,
   "metadata": {},
   "outputs": [
    {
     "name": "stdout",
     "output_type": "stream",
     "text": [
      "The optimal score for the maximizing player is: 21\n"
     ]
    }
   ],
   "source": [
    "def minimax(node, depth, maximizing_player):\n",
    "    if depth == 0 or not node:\n",
    "        return sum(node)  \n",
    "\n",
    "    if maximizing_player:\n",
    "        max_eval = float('-inf')\n",
    "        for child in generate_children(node):\n",
    "            eval = minimax(child, depth - 1, False)\n",
    "            max_eval = max(max_eval, eval)\n",
    "        return max_eval\n",
    "    else:\n",
    "        min_eval = float('inf')\n",
    "        for child in generate_children(node):\n",
    "            eval = minimax(child, depth - 1, True)\n",
    "            min_eval = min(min_eval, eval)\n",
    "        return min_eval\n",
    "\n",
    "def generate_children(node):\n",
    "    children = []\n",
    "    for score in node:\n",
    "        new_node = [s for s in node if s != score]\n",
    "        children.append(new_node)\n",
    "    return children\n",
    "\n",
    "initial_scores = [3, 5, 2, 9, 12, 4]\n",
    "max_depth = 2\n",
    "\n",
    "optimal_score = minimax(initial_scores, max_depth, True)\n",
    "print(f\"The optimal score for the maximizing player is: {optimal_score}\")"
   ]
  },
  {
   "cell_type": "code",
   "execution_count": null,
   "metadata": {},
   "outputs": [],
   "source": []
  }
 ],
 "metadata": {
  "kernelspec": {
   "display_name": "Python 3",
   "language": "python",
   "name": "python3"
  },
  "language_info": {
   "codemirror_mode": {
    "name": "ipython",
    "version": 3
   },
   "file_extension": ".py",
   "mimetype": "text/x-python",
   "name": "python",
   "nbconvert_exporter": "python",
   "pygments_lexer": "ipython3",
   "version": "3.12.7"
  }
 },
 "nbformat": 4,
 "nbformat_minor": 2
}
