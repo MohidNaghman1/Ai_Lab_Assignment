{
 "cells": [
  {
   "cell_type": "code",
   "execution_count": 1,
   "metadata": {},
   "outputs": [],
   "source": [
    "class GraphNode:\n",
    "    def __init__(self, data):\n",
    "        self.data = data\n",
    "        self.connections = []\n",
    "\n",
    "    def connect(self, node):\n",
    "        self.connections.append(node)\n",
    "\n",
    "\n",
    "def depth_first_search(start_node):\n",
    "    stack = [start_node]\n",
    "    visited_nodes = set()\n",
    "    \n",
    "    while stack:\n",
    "        current = stack.pop()\n",
    "        \n",
    "        if current not in visited_nodes:\n",
    "            visited_nodes.add(current)\n",
    "            print(current.data)\n",
    "            \n",
    "            for neighbor in current.connections:\n",
    "                if neighbor not in visited_nodes:\n",
    "                    stack.append(neighbor)"
   ]
  },
  {
   "cell_type": "code",
   "execution_count": 2,
   "metadata": {},
   "outputs": [],
   "source": [
    "node_1 = GraphNode('A')\n",
    "node_2 = GraphNode('B')\n",
    "node_3 = GraphNode('C')\n",
    "node_4 = GraphNode('D')\n",
    "node_5 = GraphNode('E')\n",
    "\n",
    "node_1.connect(node_2)\n",
    "node_2.connect(node_3)\n",
    "node_3.connect(node_4)\n",
    "node_4.connect(node_5)"
   ]
  },
  {
   "cell_type": "code",
   "execution_count": 3,
   "metadata": {},
   "outputs": [
    {
     "name": "stdout",
     "output_type": "stream",
     "text": [
      "A\n",
      "B\n",
      "C\n",
      "D\n",
      "E\n"
     ]
    }
   ],
   "source": [
    "depth_first_search(node_1)"
   ]
  },
  {
   "cell_type": "markdown",
   "metadata": {},
   "source": [
    "##                         Task 2"
   ]
  },
  {
   "cell_type": "code",
   "execution_count": 4,
   "metadata": {},
   "outputs": [],
   "source": [
    "class TreeNode:\n",
    "    def __init__(self, data):\n",
    "        self.data = data\n",
    "        self.left_child = None\n",
    "        self.right_child = None\n",
    "\n",
    "\n"
   ]
  },
  {
   "cell_type": "code",
   "execution_count": 5,
   "metadata": {},
   "outputs": [],
   "source": [
    "def traverse_preorder(node):\n",
    "    if node:\n",
    "        print(node.data, end=\" \")\n",
    "        traverse_preorder(node.left_child)\n",
    "        traverse_preorder(node.right_child)\n",
    "\n"
   ]
  },
  {
   "cell_type": "code",
   "execution_count": 6,
   "metadata": {},
   "outputs": [],
   "source": [
    "\n",
    "def traverse_inorder(node):\n",
    "    if node:\n",
    "        traverse_inorder(node.left_child)\n",
    "        print(node.data, end=\" \")\n",
    "        traverse_inorder(node.right_child)\n",
    "\n",
    "\n",
    "def traverse_postorder(node):\n",
    "    if node:\n",
    "        traverse_postorder(node.left_child)\n",
    "        traverse_postorder(node.right_child)\n",
    "        print(node.data, end=\" \")\n",
    "\n",
    "\n"
   ]
  },
  {
   "cell_type": "code",
   "execution_count": 7,
   "metadata": {},
   "outputs": [
    {
     "name": "stdout",
     "output_type": "stream",
     "text": [
      "Preorder Traversal: \n",
      "A B D E C F G \n",
      "Inorder Traversal: \n",
      "D B E A F C G \n",
      "Postorder Traversal: \n",
      "D E B F G C A "
     ]
    }
   ],
   "source": [
    "# Creating the binary tree\n",
    "root_node = TreeNode('A')\n",
    "root_node.left_child = TreeNode('B')\n",
    "root_node.right_child = TreeNode('C')\n",
    "root_node.left_child.left_child = TreeNode('D')\n",
    "root_node.left_child.right_child = TreeNode('E')\n",
    "root_node.right_child.left_child = TreeNode('F')\n",
    "root_node.right_child.right_child = TreeNode('G')\n",
    "\n",
    "# Performing traversals\n",
    "print(\"Preorder Traversal: \")\n",
    "traverse_preorder(root_node)\n",
    "\n",
    "print(\"\\nInorder Traversal: \")\n",
    "traverse_inorder(root_node)\n",
    "\n",
    "print(\"\\nPostorder Traversal: \")\n",
    "traverse_postorder(root_node)"
   ]
  },
  {
   "cell_type": "code",
   "execution_count": null,
   "metadata": {},
   "outputs": [],
   "source": []
  }
 ],
 "metadata": {
  "kernelspec": {
   "display_name": "Python 3",
   "language": "python",
   "name": "python3"
  },
  "language_info": {
   "codemirror_mode": {
    "name": "ipython",
    "version": 3
   },
   "file_extension": ".py",
   "mimetype": "text/x-python",
   "name": "python",
   "nbconvert_exporter": "python",
   "pygments_lexer": "ipython3",
   "version": "3.12.7"
  }
 },
 "nbformat": 4,
 "nbformat_minor": 2
}
